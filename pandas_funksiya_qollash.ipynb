{
 "cells": [
  {
   "cell_type": "code",
   "execution_count": 1,
   "id": "80617e13",
   "metadata": {},
   "outputs": [],
   "source": [
    "import pandas as pd\n",
    "import numpy as np"
   ]
  },
  {
   "cell_type": "code",
   "execution_count": 2,
   "id": "12d16617",
   "metadata": {},
   "outputs": [
    {
     "data": {
      "text/html": [
       "<div>\n",
       "<style scoped>\n",
       "    .dataframe tbody tr th:only-of-type {\n",
       "        vertical-align: middle;\n",
       "    }\n",
       "\n",
       "    .dataframe tbody tr th {\n",
       "        vertical-align: top;\n",
       "    }\n",
       "\n",
       "    .dataframe thead th {\n",
       "        text-align: right;\n",
       "    }\n",
       "</style>\n",
       "<table border=\"1\" class=\"dataframe\">\n",
       "  <thead>\n",
       "    <tr style=\"text-align: right;\">\n",
       "      <th></th>\n",
       "      <th>olma</th>\n",
       "      <th>anor</th>\n",
       "      <th>qovun</th>\n",
       "      <th>anjir</th>\n",
       "    </tr>\n",
       "  </thead>\n",
       "  <tbody>\n",
       "    <tr>\n",
       "      <th>a</th>\n",
       "      <td>-0.973211</td>\n",
       "      <td>-0.562639</td>\n",
       "      <td>0.199683</td>\n",
       "      <td>1.137060</td>\n",
       "    </tr>\n",
       "    <tr>\n",
       "      <th>b</th>\n",
       "      <td>0.354100</td>\n",
       "      <td>-0.469097</td>\n",
       "      <td>1.499919</td>\n",
       "      <td>-0.629040</td>\n",
       "    </tr>\n",
       "    <tr>\n",
       "      <th>c</th>\n",
       "      <td>-0.587644</td>\n",
       "      <td>-1.004512</td>\n",
       "      <td>-0.496916</td>\n",
       "      <td>-0.201625</td>\n",
       "    </tr>\n",
       "  </tbody>\n",
       "</table>\n",
       "</div>"
      ],
      "text/plain": [
       "       olma      anor     qovun     anjir\n",
       "a -0.973211 -0.562639  0.199683  1.137060\n",
       "b  0.354100 -0.469097  1.499919 -0.629040\n",
       "c -0.587644 -1.004512 -0.496916 -0.201625"
      ]
     },
     "execution_count": 2,
     "metadata": {},
     "output_type": "execute_result"
    }
   ],
   "source": [
    "df = pd.DataFrame(np.random.randn(3,4), index=list('abc'), columns=['olma','anor','qovun','anjir'])\n",
    "df"
   ]
  },
  {
   "cell_type": "code",
   "execution_count": 4,
   "id": "9efc9876",
   "metadata": {},
   "outputs": [
    {
     "data": {
      "text/html": [
       "<div>\n",
       "<style scoped>\n",
       "    .dataframe tbody tr th:only-of-type {\n",
       "        vertical-align: middle;\n",
       "    }\n",
       "\n",
       "    .dataframe tbody tr th {\n",
       "        vertical-align: top;\n",
       "    }\n",
       "\n",
       "    .dataframe thead th {\n",
       "        text-align: right;\n",
       "    }\n",
       "</style>\n",
       "<table border=\"1\" class=\"dataframe\">\n",
       "  <thead>\n",
       "    <tr style=\"text-align: right;\">\n",
       "      <th></th>\n",
       "      <th>olma</th>\n",
       "      <th>anor</th>\n",
       "      <th>qovun</th>\n",
       "      <th>anjir</th>\n",
       "    </tr>\n",
       "  </thead>\n",
       "  <tbody>\n",
       "    <tr>\n",
       "      <th>a</th>\n",
       "      <td>0.973211</td>\n",
       "      <td>0.562639</td>\n",
       "      <td>0.199683</td>\n",
       "      <td>1.137060</td>\n",
       "    </tr>\n",
       "    <tr>\n",
       "      <th>b</th>\n",
       "      <td>0.354100</td>\n",
       "      <td>0.469097</td>\n",
       "      <td>1.499919</td>\n",
       "      <td>0.629040</td>\n",
       "    </tr>\n",
       "    <tr>\n",
       "      <th>c</th>\n",
       "      <td>0.587644</td>\n",
       "      <td>1.004512</td>\n",
       "      <td>0.496916</td>\n",
       "      <td>0.201625</td>\n",
       "    </tr>\n",
       "  </tbody>\n",
       "</table>\n",
       "</div>"
      ],
      "text/plain": [
       "       olma      anor     qovun     anjir\n",
       "a  0.973211  0.562639  0.199683  1.137060\n",
       "b  0.354100  0.469097  1.499919  0.629040\n",
       "c  0.587644  1.004512  0.496916  0.201625"
      ]
     },
     "execution_count": 4,
     "metadata": {},
     "output_type": "execute_result"
    }
   ],
   "source": [
    "np.abs(df) #\"abs\" bu absolyut qiymat yani faqat musbat qiymatni konsolga chiqazadi"
   ]
  },
  {
   "cell_type": "code",
   "execution_count": 6,
   "id": "e3c9c6d9",
   "metadata": {},
   "outputs": [
    {
     "data": {
      "text/html": [
       "<div>\n",
       "<style scoped>\n",
       "    .dataframe tbody tr th:only-of-type {\n",
       "        vertical-align: middle;\n",
       "    }\n",
       "\n",
       "    .dataframe tbody tr th {\n",
       "        vertical-align: top;\n",
       "    }\n",
       "\n",
       "    .dataframe thead th {\n",
       "        text-align: right;\n",
       "    }\n",
       "</style>\n",
       "<table border=\"1\" class=\"dataframe\">\n",
       "  <thead>\n",
       "    <tr style=\"text-align: right;\">\n",
       "      <th></th>\n",
       "      <th>olma</th>\n",
       "      <th>anor</th>\n",
       "      <th>qovun</th>\n",
       "      <th>anjir</th>\n",
       "    </tr>\n",
       "  </thead>\n",
       "  <tbody>\n",
       "    <tr>\n",
       "      <th>a</th>\n",
       "      <td>-1.0</td>\n",
       "      <td>-1.0</td>\n",
       "      <td>0.0</td>\n",
       "      <td>1.0</td>\n",
       "    </tr>\n",
       "    <tr>\n",
       "      <th>b</th>\n",
       "      <td>0.0</td>\n",
       "      <td>-0.0</td>\n",
       "      <td>1.0</td>\n",
       "      <td>-1.0</td>\n",
       "    </tr>\n",
       "    <tr>\n",
       "      <th>c</th>\n",
       "      <td>-1.0</td>\n",
       "      <td>-1.0</td>\n",
       "      <td>-0.0</td>\n",
       "      <td>-0.0</td>\n",
       "    </tr>\n",
       "  </tbody>\n",
       "</table>\n",
       "</div>"
      ],
      "text/plain": [
       "   olma  anor  qovun  anjir\n",
       "a  -1.0  -1.0    0.0    1.0\n",
       "b   0.0  -0.0    1.0   -1.0\n",
       "c  -1.0  -1.0   -0.0   -0.0"
      ]
     },
     "execution_count": 6,
     "metadata": {},
     "output_type": "execute_result"
    }
   ],
   "source": [
    "np.round(df) # \"round\" bu faqat butun sonlarni qaytaradi"
   ]
  },
  {
   "cell_type": "code",
   "execution_count": 8,
   "id": "91dfc506",
   "metadata": {},
   "outputs": [
    {
     "data": {
      "text/plain": [
       "olma    -0.402252\n",
       "anor    -0.678749\n",
       "qovun    0.400895\n",
       "anjir    0.102132\n",
       "dtype: float64"
      ]
     },
     "execution_count": 8,
     "metadata": {},
     "output_type": "execute_result"
    }
   ],
   "source": [
    "df.mean() # \" mean\" ortacha qiymat qaytaradi"
   ]
  },
  {
   "cell_type": "code",
   "execution_count": 11,
   "id": "b2a89091",
   "metadata": {},
   "outputs": [
    {
     "data": {
      "text/plain": [
       "olma    -1.206756\n",
       "anor    -2.036247\n",
       "qovun    1.202686\n",
       "anjir    0.306395\n",
       "dtype: float64"
      ]
     },
     "execution_count": 11,
     "metadata": {},
     "output_type": "execute_result"
    }
   ],
   "source": [
    "df.apply(sum) # \"apply\" ning qulayligi uning ichiga joylash orqali kop amallarni amalga oshira olamiz"
   ]
  },
  {
   "cell_type": "code",
   "execution_count": 13,
   "id": "613e6175",
   "metadata": {},
   "outputs": [
    {
     "data": {
      "text/plain": [
       "olma     1.327311\n",
       "anor     0.535415\n",
       "qovun    1.996835\n",
       "anjir    1.766100\n",
       "dtype: float64"
      ]
     },
     "execution_count": 13,
     "metadata": {},
     "output_type": "execute_result"
    }
   ],
   "source": [
    "df.apply(lambda x: x.max()-x.min()) # max qiymat bn min qiymat orasidagi farq \"lambda\" funksiyasinin organish kk"
   ]
  },
  {
   "cell_type": "code",
   "execution_count": 14,
   "id": "12ea06ad",
   "metadata": {},
   "outputs": [],
   "source": [
    "def foo(x):\n",
    "     return pd.Series([x.min(), x.max()], index=['min','max']) # series qiymat qaytaraybdi "
   ]
  },
  {
   "cell_type": "code",
   "execution_count": 15,
   "id": "f5ec2354",
   "metadata": {},
   "outputs": [
    {
     "data": {
      "text/html": [
       "<div>\n",
       "<style scoped>\n",
       "    .dataframe tbody tr th:only-of-type {\n",
       "        vertical-align: middle;\n",
       "    }\n",
       "\n",
       "    .dataframe tbody tr th {\n",
       "        vertical-align: top;\n",
       "    }\n",
       "\n",
       "    .dataframe thead th {\n",
       "        text-align: right;\n",
       "    }\n",
       "</style>\n",
       "<table border=\"1\" class=\"dataframe\">\n",
       "  <thead>\n",
       "    <tr style=\"text-align: right;\">\n",
       "      <th></th>\n",
       "      <th>olma</th>\n",
       "      <th>anor</th>\n",
       "      <th>qovun</th>\n",
       "      <th>anjir</th>\n",
       "    </tr>\n",
       "  </thead>\n",
       "  <tbody>\n",
       "    <tr>\n",
       "      <th>min</th>\n",
       "      <td>-0.973211</td>\n",
       "      <td>-1.004512</td>\n",
       "      <td>-0.496916</td>\n",
       "      <td>-0.62904</td>\n",
       "    </tr>\n",
       "    <tr>\n",
       "      <th>max</th>\n",
       "      <td>0.354100</td>\n",
       "      <td>-0.469097</td>\n",
       "      <td>1.499919</td>\n",
       "      <td>1.13706</td>\n",
       "    </tr>\n",
       "  </tbody>\n",
       "</table>\n",
       "</div>"
      ],
      "text/plain": [
       "         olma      anor     qovun    anjir\n",
       "min -0.973211 -1.004512 -0.496916 -0.62904\n",
       "max  0.354100 -0.469097  1.499919  1.13706"
      ]
     },
     "execution_count": 15,
     "metadata": {},
     "output_type": "execute_result"
    }
   ],
   "source": [
    "df.apply(foo)"
   ]
  },
  {
   "cell_type": "code",
   "execution_count": 16,
   "id": "6125bb45",
   "metadata": {},
   "outputs": [
    {
     "data": {
      "text/html": [
       "<div>\n",
       "<style scoped>\n",
       "    .dataframe tbody tr th:only-of-type {\n",
       "        vertical-align: middle;\n",
       "    }\n",
       "\n",
       "    .dataframe tbody tr th {\n",
       "        vertical-align: top;\n",
       "    }\n",
       "\n",
       "    .dataframe thead th {\n",
       "        text-align: right;\n",
       "    }\n",
       "</style>\n",
       "<table border=\"1\" class=\"dataframe\">\n",
       "  <thead>\n",
       "    <tr style=\"text-align: right;\">\n",
       "      <th></th>\n",
       "      <th>olma</th>\n",
       "      <th>anor</th>\n",
       "      <th>qovun</th>\n",
       "      <th>anjir</th>\n",
       "    </tr>\n",
       "  </thead>\n",
       "  <tbody>\n",
       "    <tr>\n",
       "      <th>a</th>\n",
       "      <td>1</td>\n",
       "      <td>2</td>\n",
       "      <td>3</td>\n",
       "      <td>4</td>\n",
       "    </tr>\n",
       "    <tr>\n",
       "      <th>b</th>\n",
       "      <td>5</td>\n",
       "      <td>6</td>\n",
       "      <td>7</td>\n",
       "      <td>8</td>\n",
       "    </tr>\n",
       "    <tr>\n",
       "      <th>c</th>\n",
       "      <td>9</td>\n",
       "      <td>10</td>\n",
       "      <td>11</td>\n",
       "      <td>12</td>\n",
       "    </tr>\n",
       "  </tbody>\n",
       "</table>\n",
       "</div>"
      ],
      "text/plain": [
       "   olma  anor  qovun  anjir\n",
       "a     1     2      3      4\n",
       "b     5     6      7      8\n",
       "c     9    10     11     12"
      ]
     },
     "execution_count": 16,
     "metadata": {},
     "output_type": "execute_result"
    }
   ],
   "source": [
    "df = pd.DataFrame(np.arange(1,13).reshape(3,4), index=list('abc'), columns=['olma','anor','qovun','anjir'])\n",
    "df"
   ]
  },
  {
   "cell_type": "code",
   "execution_count": 18,
   "id": "26fd6152",
   "metadata": {},
   "outputs": [
    {
     "data": {
      "text/html": [
       "<div>\n",
       "<style scoped>\n",
       "    .dataframe tbody tr th:only-of-type {\n",
       "        vertical-align: middle;\n",
       "    }\n",
       "\n",
       "    .dataframe tbody tr th {\n",
       "        vertical-align: top;\n",
       "    }\n",
       "\n",
       "    .dataframe thead th {\n",
       "        text-align: right;\n",
       "    }\n",
       "</style>\n",
       "<table border=\"1\" class=\"dataframe\">\n",
       "  <thead>\n",
       "    <tr style=\"text-align: right;\">\n",
       "      <th></th>\n",
       "      <th>olma</th>\n",
       "      <th>anor</th>\n",
       "      <th>qovun</th>\n",
       "      <th>anjir</th>\n",
       "    </tr>\n",
       "  </thead>\n",
       "  <tbody>\n",
       "    <tr>\n",
       "      <th>a</th>\n",
       "      <td>1</td>\n",
       "      <td>4</td>\n",
       "      <td>9</td>\n",
       "      <td>16</td>\n",
       "    </tr>\n",
       "    <tr>\n",
       "      <th>b</th>\n",
       "      <td>25</td>\n",
       "      <td>36</td>\n",
       "      <td>49</td>\n",
       "      <td>64</td>\n",
       "    </tr>\n",
       "    <tr>\n",
       "      <th>c</th>\n",
       "      <td>81</td>\n",
       "      <td>100</td>\n",
       "      <td>121</td>\n",
       "      <td>144</td>\n",
       "    </tr>\n",
       "  </tbody>\n",
       "</table>\n",
       "</div>"
      ],
      "text/plain": [
       "   olma  anor  qovun  anjir\n",
       "a     1     4      9     16\n",
       "b    25    36     49     64\n",
       "c    81   100    121    144"
      ]
     },
     "execution_count": 18,
     "metadata": {},
     "output_type": "execute_result"
    }
   ],
   "source": [
    "df.applymap(lambda x: x*x)# har bir elementni kvadratini qaytaradi \" x \" bu harbir element"
   ]
  },
  {
   "cell_type": "code",
   "execution_count": null,
   "id": "b88aa0b2",
   "metadata": {},
   "outputs": [],
   "source": []
  }
 ],
 "metadata": {
  "kernelspec": {
   "display_name": "Python 3 (ipykernel)",
   "language": "python",
   "name": "python3"
  },
  "language_info": {
   "codemirror_mode": {
    "name": "ipython",
    "version": 3
   },
   "file_extension": ".py",
   "mimetype": "text/x-python",
   "name": "python",
   "nbconvert_exporter": "python",
   "pygments_lexer": "ipython3",
   "version": "3.9.7"
  }
 },
 "nbformat": 4,
 "nbformat_minor": 5
}
